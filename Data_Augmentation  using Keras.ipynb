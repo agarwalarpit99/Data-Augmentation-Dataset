{
  "nbformat": 4,
  "nbformat_minor": 0,
  "metadata": {
    "colab": {
      "name": "Data Augmentation.ipynb",
      "provenance": [],
      "authorship_tag": "ABX9TyMxRqHYYti1NIvBlUDexbLB",
      "include_colab_link": true
    },
    "kernelspec": {
      "name": "python3",
      "display_name": "Python 3"
    }
  },
  "cells": [
    {
      "cell_type": "markdown",
      "metadata": {
        "id": "view-in-github",
        "colab_type": "text"
      },
      "source": [
        "<a href=\"https://colab.research.google.com/github/agarwalarpit99/Data-Augmentation-Dataset/blob/master/Data_Augmentation%20%20using%20Keras.ipynb\" target=\"_parent\"><img src=\"https://colab.research.google.com/assets/colab-badge.svg\" alt=\"Open In Colab\"/></a>"
      ]
    },
    {
      "cell_type": "code",
      "metadata": {
        "id": "acRy2i8kPQGD",
        "colab_type": "code",
        "colab": {}
      },
      "source": [
        "from keras.preprocessing.image import ImageDataGenerator,img_to_array,array_to_img,load_img\n",
        "# this InputDataGenratorlibary has inbuild properties such as \n",
        "#rotation,flipping etc so we use that"
      ],
      "execution_count": 0,
      "outputs": []
    },
    {
      "cell_type": "code",
      "metadata": {
        "id": "UOFkSEeuRFhV",
        "colab_type": "code",
        "colab": {}
      },
      "source": [
        "datagen = ImageDataGenerator(\n",
        "        rotation_range=40,\n",
        "        width_shift_range=0.2,\n",
        "        height_shift_range=0.2,\n",
        "        rescale=1./255,\n",
        "        shear_range=0.2,\n",
        "        zoom_range=0.2,\n",
        "        horizontal_flip=True,\n",
        "        fill_mode='nearest')\n",
        "#to load the image\n",
        "img=load_img('/content/drive/My Drive/COLAB FILES/Datasets/dog.jpeg')\n",
        "#to convert the image into an array\n",
        "x=img_to_array(img)\n",
        "#to change it shape i.e we add 1 more now it shape becomes (1,254,199,3)\n",
        "x=x.reshape((1,)+x.shape)\n",
        "i=0\n",
        "# .flow() command generate batches of randomly transformed images\n",
        "# and saves the result is the directory\n",
        "for batch in datagen.flow(x,batch_size=1,save_to_dir='/content/drive/My Drive/COLAB FILES/Datasets',\n",
        "                          save_prefix='dog',save_format='jpg'):\n",
        "  i+=1\n",
        "  if i>20:\n",
        "    break# to limit the number of images\n"
      ],
      "execution_count": 0,
      "outputs": []
    },
    {
      "cell_type": "code",
      "metadata": {
        "id": "Q2nNdK29Ts1B",
        "colab_type": "code",
        "outputId": "a731211a-2b34-4393-f473-af01cc07b5ba",
        "colab": {
          "base_uri": "https://localhost:8080/",
          "height": 35
        }
      },
      "source": [
        "x.shape"
      ],
      "execution_count": 0,
      "outputs": [
        {
          "output_type": "execute_result",
          "data": {
            "text/plain": [
              "(1, 259, 194, 3)"
            ]
          },
          "metadata": {
            "tags": []
          },
          "execution_count": 7
        }
      ]
    },
    {
      "cell_type": "code",
      "metadata": {
        "id": "ojX7sJg7UWtp",
        "colab_type": "code",
        "colab": {}
      },
      "source": [
        ""
      ],
      "execution_count": 0,
      "outputs": []
    },
    {
      "cell_type": "code",
      "metadata": {
        "id": "hKhVGDHoWWrZ",
        "colab_type": "code",
        "colab": {}
      },
      "source": [
        ""
      ],
      "execution_count": 0,
      "outputs": []
    },
    {
      "cell_type": "code",
      "metadata": {
        "id": "rdDi5Vp5WzmU",
        "colab_type": "code",
        "colab": {}
      },
      "source": [
        ""
      ],
      "execution_count": 0,
      "outputs": []
    }
  ]
}